{
  "cells": [
    {
      "cell_type": "code",
      "execution_count": 2,
      "metadata": {
        "id": "QSMl42ivJg5M"
      },
      "outputs": [],
      "source": [
        "def add(x, y):\n",
        "    \"\"\"\n",
        "    Adds two numbers.\n",
        "\n",
        "    Parameters:\n",
        "    - x (float or int): The first number to be added.\n",
        "    - y (float or int): The second number to be added.\n",
        "\n",
        "    Returns:\n",
        "    float or int: The sum of x and y.\n",
        "    \"\"\"\n",
        "    return x + y\n",
        "\n",
        "\n",
        "\n",
        "def subtract(x, y):\n",
        "    \"\"\"\n",
        "    Subtracts the second number from the first.\n",
        "\n",
        "    Parameters:\n",
        "    - x (float or int): The number from which the second number will be subtracted.\n",
        "    - y (float or int): The number to be subtracted.\n",
        "\n",
        "    Returns:\n",
        "    float or int: The result of subtracting y from x.\n",
        "    \"\"\"\n",
        "    return x - y\n",
        "\n",
        "\n",
        "\n",
        "def multiply(x, y):\n",
        "    \"\"\"\n",
        "    Multiplies two numbers.\n",
        "\n",
        "    Parameters:\n",
        "    - x (float or int): The first number to be multiplied.\n",
        "    - y (float or int): The second number to be multiplied.\n",
        "\n",
        "    Returns:\n",
        "    float or int: The product of x and y.\n",
        "    \"\"\"\n",
        "    return x * y\n",
        "\n",
        "\n",
        "\n",
        "def divide(x, y):\n",
        "    \"\"\"\n",
        "    Divides the first number by the second.\n",
        "\n",
        "    Parameters:\n",
        "    - x (float or int): The dividend.\n",
        "    - y (float or int): The divisor.\n",
        "\n",
        "    Returns:\n",
        "    float: The result of dividing x by y.\n",
        "    \"\"\"\n",
        "    if y == 0:\n",
        "        raise ValueError(\"Cannot divide by zero.\")\n",
        "    return x / y"
      ]
    },
    {
      "cell_type": "code",
      "execution_count": 3,
      "metadata": {
        "colab": {
          "base_uri": "https://localhost:8080/"
        },
        "id": "k6dnMXkMJg5P",
        "outputId": "c0994b15-7713-4737-b994-639b6263a576"
      },
      "outputs": [
        {
          "data": {
            "text/plain": [
              "8"
            ]
          },
          "execution_count": 3,
          "metadata": {},
          "output_type": "execute_result"
        }
      ],
      "source": [
        "add(4,4)"
      ]
    },
    {
      "cell_type": "code",
      "execution_count": 4,
      "metadata": {
        "colab": {
          "base_uri": "https://localhost:8080/"
        },
        "id": "8eWISAytJg5Q",
        "outputId": "b8d54e0f-a07d-4733-d5d7-b9feb630df35"
      },
      "outputs": [
        {
          "data": {
            "text/plain": [
              "0"
            ]
          },
          "execution_count": 4,
          "metadata": {},
          "output_type": "execute_result"
        }
      ],
      "source": [
        "subtract(4,4)"
      ]
    },
    {
      "cell_type": "code",
      "execution_count": 5,
      "metadata": {
        "colab": {
          "base_uri": "https://localhost:8080/"
        },
        "id": "zG4Pwb7mJg5R",
        "outputId": "6fccb838-d346-46e0-b1a8-694463e79d5c"
      },
      "outputs": [
        {
          "data": {
            "text/plain": [
              "16"
            ]
          },
          "execution_count": 5,
          "metadata": {},
          "output_type": "execute_result"
        }
      ],
      "source": [
        "multiply(4,4)"
      ]
    },
    {
      "cell_type": "code",
      "execution_count": 6,
      "metadata": {
        "colab": {
          "base_uri": "https://localhost:8080/"
        },
        "id": "tUlqPFgPJg5S",
        "outputId": "1aa54bfb-5fef-4fc1-bcf9-c6f0e4015b39"
      },
      "outputs": [
        {
          "data": {
            "text/plain": [
              "1.0"
            ]
          },
          "execution_count": 6,
          "metadata": {},
          "output_type": "execute_result"
        }
      ],
      "source": [
        "divide(4,4)"
      ]
    },
    {
      "cell_type": "code",
      "execution_count": null,
      "metadata": {
        "id": "1raEQYaVJg5S"
      },
      "outputs": [],
      "source": []
    }
  ],
  "metadata": {
    "colab": {
      "provenance": []
    },
    "kernelspec": {
      "display_name": "Python 3",
      "language": "python",
      "name": "python3"
    },
    "language_info": {
      "codemirror_mode": {
        "name": "ipython",
        "version": 3
      },
      "file_extension": ".py",
      "mimetype": "text/x-python",
      "name": "python",
      "nbconvert_exporter": "python",
      "pygments_lexer": "ipython3",
      "version": "3.9.6"
    }
  },
  "nbformat": 4,
  "nbformat_minor": 0
}
